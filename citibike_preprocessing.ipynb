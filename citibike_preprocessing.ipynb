{
 "cells": [
  {
   "cell_type": "markdown",
   "metadata": {},
   "source": [
    "# Citibike Proprocessing"
   ]
  },
  {
   "cell_type": "code",
   "execution_count": null,
   "metadata": {},
   "outputs": [],
   "source": [
    "import numpy as np\n",
    "import pandas as pd\n",
    "import pickle\n",
    "import random\n",
    "from datetime import datetime\n",
    "import datetime as dt\n",
    "from collections import Counter\n",
    "import sys\n",
    "import importlib\n",
    "\n",
    "import dask\n",
    "import dask.dataframe as dd\n",
    "from dask.distributed import Client, progress\n",
    "\n",
    "from helper_functions import read_data_dask, count_missing_date"
   ]
  },
  {
   "cell_type": "code",
   "execution_count": 2,
   "metadata": {
    "ExecuteTime": {
     "end_time": "2020-06-08T00:47:26.705214Z",
     "start_time": "2020-06-08T00:47:25.664692Z"
    }
   },
   "outputs": [
    {
     "data": {
      "text/html": [
       "<table style=\"border: 2px solid white;\">\n",
       "<tr>\n",
       "<td style=\"vertical-align: top; border: 0px solid white\">\n",
       "<h3 style=\"text-align: left;\">Client</h3>\n",
       "<ul style=\"text-align: left; list-style: none; margin: 0; padding: 0;\">\n",
       "  <li><b>Scheduler: </b>tcp://127.0.0.1:41255</li>\n",
       "  <li><b>Dashboard: </b><a href='http://127.0.0.1:8787/status' target='_blank'>http://127.0.0.1:8787/status</a></li>\n",
       "</ul>\n",
       "</td>\n",
       "<td style=\"vertical-align: top; border: 0px solid white\">\n",
       "<h3 style=\"text-align: left;\">Cluster</h3>\n",
       "<ul style=\"text-align: left; list-style:none; margin: 0; padding: 0;\">\n",
       "  <li><b>Workers: </b>4</li>\n",
       "  <li><b>Cores: </b>8</li>\n",
       "  <li><b>Memory: </b>31.63 GB</li>\n",
       "</ul>\n",
       "</td>\n",
       "</tr>\n",
       "</table>"
      ],
      "text/plain": [
       "<Client: 'tcp://127.0.0.1:41255' processes=4 threads=8, memory=31.63 GB>"
      ]
     },
     "execution_count": 2,
     "metadata": {},
     "output_type": "execute_result"
    }
   ],
   "source": [
    "client = Client(n_workers=4, threads_per_worker=2)\n",
    "client"
   ]
  },
  {
   "cell_type": "code",
   "execution_count": 45,
   "metadata": {},
   "outputs": [],
   "source": [
    "# files to read in based on month-year from: https://s3.amazonaws.com/tripdata/index.html\n",
    "months = [201501, 201502, 201503, 201504, 201505, 201506, 201507, 201508, 201509, 201510, 201511, 201512, \n",
    "          201601, 201602, 201603, 201604, 201605, 201606, 201607, 201608, 201609, 201610, 201611, 201612, \n",
    "          201701, 201702, 201703, 201704, 201705, 201706, 201707, 201708, 201709, 201710, 201711, 201712, \n",
    "          201801, 201802, 201803, 201804, 201805, 201806, 201807, 201808, 201809, 201810, 201811, 201812,\n",
    "          201901, 201902, 201903, 201904, 201905, 201906, 201907, 201908, 201909, 201910, 201911, 201912]"
   ]
  },
  {
   "cell_type": "code",
   "execution_count": 46,
   "metadata": {},
   "outputs": [
    {
     "name": "stderr",
     "output_type": "stream",
     "text": [
      "/home/jlee_sbu/anaconda3/envs/metis/lib/python3.7/site-packages/distributed/node.py:155: UserWarning: Port 8787 is already in use.\n",
      "Perhaps you already have a cluster running?\n",
      "Hosting the HTTP server on port 34211 instead\n",
      "  http_address[\"port\"], self.http_server.port\n",
      "/home/jlee_sbu/anaconda3/envs/metis/lib/python3.7/site-packages/dask/dataframe/io/csv.py:387: UserWarning: Warning zip compression does not support breaking apart files\n",
      "Please ensure that each individual file can fit in memory and\n",
      "use the keyword ``blocksize=None to remove this message``\n",
      "Setting ``blocksize=None``\n",
      "  \"Setting ``blocksize=None``\" % compression\n",
      "/home/jlee_sbu/anaconda3/envs/metis/lib/python3.7/site-packages/dask/dataframe/io/csv.py:387: UserWarning: Warning zip compression does not support breaking apart files\n",
      "Please ensure that each individual file can fit in memory and\n",
      "use the keyword ``blocksize=None to remove this message``\n",
      "Setting ``blocksize=None``\n",
      "  \"Setting ``blocksize=None``\" % compression\n"
     ]
    }
   ],
   "source": [
    "citibike_transactions = read_data_dask(months)"
   ]
  },
  {
   "cell_type": "code",
   "execution_count": 36,
   "metadata": {},
   "outputs": [
    {
     "data": {
      "text/plain": [
       "78248317"
      ]
     },
     "execution_count": 36,
     "metadata": {},
     "output_type": "execute_result"
    }
   ],
   "source": [
    "# number of total citibike rides\n",
    "len(citibike_transactions)"
   ]
  },
  {
   "cell_type": "code",
   "execution_count": null,
   "metadata": {
    "scrolled": false
   },
   "outputs": [],
   "source": [
    "# store dataframe in parquet\n",
    "citibike_transactions.to_parquet('citibike_transactions.parquet', engine='fastparquet')"
   ]
  },
  {
   "cell_type": "code",
   "execution_count": 5,
   "metadata": {
    "scrolled": true
   },
   "outputs": [
    {
     "name": "stdout",
     "output_type": "stream",
     "text": [
      "201902-citibike-tripdata.csv\t    citibike_transactions.csv\r\n",
      "aisles.csv\t\t\t    citibike_transactions.parquet\r\n",
      "anaconda3\t\t\t    daily_df.pkl\r\n",
      "Anaconda3-2020.02-Linux-x86_64.sh   dask-worker-space\r\n",
      "citibike_201901.csv\t\t    derby.log\r\n",
      "citibike_201902.csv\t\t    instacart_feature_engineering.ipynb\r\n",
      "citibike_data\t\t\t    metastore_db\r\n",
      "citibike_preprocessing.ipynb\t    Music\r\n",
      "citibike_preprocessing.py\t    __pycache__\r\n",
      "citibike_preprocessing-SPARK.ipynb  spark-2.3.1-bin-hadoop2.7\r\n",
      "citibikes_df.pkl\t\t    spark-2.3.1-bin-hadoop2.7.tar\r\n"
     ]
    }
   ],
   "source": [
    "!ls"
   ]
  },
  {
   "cell_type": "code",
   "execution_count": 19,
   "metadata": {},
   "outputs": [
    {
     "data": {
      "text/plain": [
       "tripduration                      float64\n",
       "starttime                  datetime64[ns]\n",
       "stoptime                   datetime64[ns]\n",
       "start_station_id                  float64\n",
       "start_station_name                 object\n",
       "start_station_latitude            float64\n",
       "start_station_longitude           float64\n",
       "end_station_id                    float64\n",
       "end_station_name                   object\n",
       "end_station_latitude              float64\n",
       "end_station_longitude             float64\n",
       "bikeid                            float64\n",
       "usertype                           object\n",
       "birth_year                        float64\n",
       "gender                            float64\n",
       "dtype: object"
      ]
     },
     "execution_count": 19,
     "metadata": {},
     "output_type": "execute_result"
    }
   ],
   "source": [
    "# data types of columns\n",
    "citibike_transactions.dtypes"
   ]
  },
  {
   "cell_type": "code",
   "execution_count": 37,
   "metadata": {
    "scrolled": false
   },
   "outputs": [
    {
     "data": {
      "text/html": [
       "<div>\n",
       "<style scoped>\n",
       "    .dataframe tbody tr th:only-of-type {\n",
       "        vertical-align: middle;\n",
       "    }\n",
       "\n",
       "    .dataframe tbody tr th {\n",
       "        vertical-align: top;\n",
       "    }\n",
       "\n",
       "    .dataframe thead th {\n",
       "        text-align: right;\n",
       "    }\n",
       "</style>\n",
       "<table border=\"1\" class=\"dataframe\">\n",
       "  <thead>\n",
       "    <tr style=\"text-align: right;\">\n",
       "      <th></th>\n",
       "      <th>tripduration</th>\n",
       "      <th>starttime</th>\n",
       "      <th>stoptime</th>\n",
       "      <th>start station id</th>\n",
       "      <th>start station name</th>\n",
       "      <th>start station latitude</th>\n",
       "      <th>start station longitude</th>\n",
       "      <th>end station id</th>\n",
       "      <th>end station name</th>\n",
       "      <th>end station latitude</th>\n",
       "      <th>end station longitude</th>\n",
       "      <th>bikeid</th>\n",
       "      <th>usertype</th>\n",
       "      <th>birth year</th>\n",
       "      <th>gender</th>\n",
       "    </tr>\n",
       "  </thead>\n",
       "  <tbody>\n",
       "    <tr>\n",
       "      <th>0</th>\n",
       "      <td>1346.0</td>\n",
       "      <td>1/1/2015 0:01</td>\n",
       "      <td>1/1/2015 0:24</td>\n",
       "      <td>455.0</td>\n",
       "      <td>1 Ave &amp; E 44 St</td>\n",
       "      <td>40.750020</td>\n",
       "      <td>-73.969053</td>\n",
       "      <td>265.0</td>\n",
       "      <td>Stanton St &amp; Chrystie St</td>\n",
       "      <td>40.722293</td>\n",
       "      <td>-73.991475</td>\n",
       "      <td>18660.0</td>\n",
       "      <td>Subscriber</td>\n",
       "      <td>1960.0</td>\n",
       "      <td>2.0</td>\n",
       "    </tr>\n",
       "    <tr>\n",
       "      <th>1</th>\n",
       "      <td>363.0</td>\n",
       "      <td>1/1/2015 0:02</td>\n",
       "      <td>1/1/2015 0:08</td>\n",
       "      <td>434.0</td>\n",
       "      <td>9 Ave &amp; W 18 St</td>\n",
       "      <td>40.743174</td>\n",
       "      <td>-74.003664</td>\n",
       "      <td>482.0</td>\n",
       "      <td>W 15 St &amp; 7 Ave</td>\n",
       "      <td>40.739355</td>\n",
       "      <td>-73.999318</td>\n",
       "      <td>16085.0</td>\n",
       "      <td>Subscriber</td>\n",
       "      <td>1963.0</td>\n",
       "      <td>1.0</td>\n",
       "    </tr>\n",
       "    <tr>\n",
       "      <th>2</th>\n",
       "      <td>346.0</td>\n",
       "      <td>1/1/2015 0:04</td>\n",
       "      <td>1/1/2015 0:10</td>\n",
       "      <td>491.0</td>\n",
       "      <td>E 24 St &amp; Park Ave S</td>\n",
       "      <td>40.740964</td>\n",
       "      <td>-73.986022</td>\n",
       "      <td>505.0</td>\n",
       "      <td>6 Ave &amp; W 33 St</td>\n",
       "      <td>40.749013</td>\n",
       "      <td>-73.988484</td>\n",
       "      <td>20845.0</td>\n",
       "      <td>Subscriber</td>\n",
       "      <td>1974.0</td>\n",
       "      <td>1.0</td>\n",
       "    </tr>\n",
       "    <tr>\n",
       "      <th>3</th>\n",
       "      <td>182.0</td>\n",
       "      <td>1/1/2015 0:04</td>\n",
       "      <td>1/1/2015 0:07</td>\n",
       "      <td>384.0</td>\n",
       "      <td>Fulton St &amp; Waverly Ave</td>\n",
       "      <td>40.683178</td>\n",
       "      <td>-73.965964</td>\n",
       "      <td>399.0</td>\n",
       "      <td>Lafayette Ave &amp; St James Pl</td>\n",
       "      <td>40.688515</td>\n",
       "      <td>-73.964763</td>\n",
       "      <td>19610.0</td>\n",
       "      <td>Subscriber</td>\n",
       "      <td>1969.0</td>\n",
       "      <td>1.0</td>\n",
       "    </tr>\n",
       "    <tr>\n",
       "      <th>4</th>\n",
       "      <td>969.0</td>\n",
       "      <td>1/1/2015 0:05</td>\n",
       "      <td>1/1/2015 0:21</td>\n",
       "      <td>474.0</td>\n",
       "      <td>5 Ave &amp; E 29 St</td>\n",
       "      <td>40.745168</td>\n",
       "      <td>-73.986831</td>\n",
       "      <td>432.0</td>\n",
       "      <td>E 7 St &amp; Avenue A</td>\n",
       "      <td>40.726218</td>\n",
       "      <td>-73.983799</td>\n",
       "      <td>20197.0</td>\n",
       "      <td>Subscriber</td>\n",
       "      <td>1977.0</td>\n",
       "      <td>1.0</td>\n",
       "    </tr>\n",
       "  </tbody>\n",
       "</table>\n",
       "</div>"
      ],
      "text/plain": [
       "   tripduration      starttime       stoptime  start station id  \\\n",
       "0        1346.0  1/1/2015 0:01  1/1/2015 0:24             455.0   \n",
       "1         363.0  1/1/2015 0:02  1/1/2015 0:08             434.0   \n",
       "2         346.0  1/1/2015 0:04  1/1/2015 0:10             491.0   \n",
       "3         182.0  1/1/2015 0:04  1/1/2015 0:07             384.0   \n",
       "4         969.0  1/1/2015 0:05  1/1/2015 0:21             474.0   \n",
       "\n",
       "        start station name  start station latitude  start station longitude  \\\n",
       "0          1 Ave & E 44 St               40.750020               -73.969053   \n",
       "1          9 Ave & W 18 St               40.743174               -74.003664   \n",
       "2     E 24 St & Park Ave S               40.740964               -73.986022   \n",
       "3  Fulton St & Waverly Ave               40.683178               -73.965964   \n",
       "4          5 Ave & E 29 St               40.745168               -73.986831   \n",
       "\n",
       "   end station id             end station name  end station latitude  \\\n",
       "0           265.0     Stanton St & Chrystie St             40.722293   \n",
       "1           482.0              W 15 St & 7 Ave             40.739355   \n",
       "2           505.0              6 Ave & W 33 St             40.749013   \n",
       "3           399.0  Lafayette Ave & St James Pl             40.688515   \n",
       "4           432.0            E 7 St & Avenue A             40.726218   \n",
       "\n",
       "   end station longitude   bikeid    usertype  birth year  gender  \n",
       "0             -73.991475  18660.0  Subscriber      1960.0     2.0  \n",
       "1             -73.999318  16085.0  Subscriber      1963.0     1.0  \n",
       "2             -73.988484  20845.0  Subscriber      1974.0     1.0  \n",
       "3             -73.964763  19610.0  Subscriber      1969.0     1.0  \n",
       "4             -73.983799  20197.0  Subscriber      1977.0     1.0  "
      ]
     },
     "execution_count": 37,
     "metadata": {},
     "output_type": "execute_result"
    }
   ],
   "source": [
    "# head of dataframe\n",
    "citibike_transactions.head(5)"
   ]
  },
  {
   "cell_type": "code",
   "execution_count": 38,
   "metadata": {},
   "outputs": [
    {
     "name": "stdout",
     "output_type": "stream",
     "text": [
      "<class 'dask.dataframe.core.DataFrame'>\n",
      "Columns: 15 entries, tripduration to gender\n",
      "dtypes: object(5), float64(10)"
     ]
    }
   ],
   "source": [
    "citibike_transactions.info()"
   ]
  },
  {
   "cell_type": "markdown",
   "metadata": {},
   "source": [
    "## Data Cleaning"
   ]
  },
  {
   "cell_type": "code",
   "execution_count": 47,
   "metadata": {},
   "outputs": [
    {
     "data": {
      "text/plain": [
       "Index(['tripduration', 'starttime', 'stoptime', 'start_station_id',\n",
       "       'start_station_name', 'start_station_latitude',\n",
       "       'start_station_longitude', 'end_station_id', 'end_station_name',\n",
       "       'end_station_latitude', 'end_station_longitude', 'bikeid', 'usertype',\n",
       "       'birth_year', 'gender'],\n",
       "      dtype='object')"
      ]
     },
     "execution_count": 47,
     "metadata": {},
     "output_type": "execute_result"
    }
   ],
   "source": [
    "# clean column names\n",
    "citibike_transactions.columns = citibike_transactions.columns.str.replace(' ', '_')\n",
    "citibike_transactions.columns = citibike_transactions.columns.str.lower()\n",
    "citibike_transactions.columns"
   ]
  },
  {
   "cell_type": "code",
   "execution_count": 9,
   "metadata": {},
   "outputs": [
    {
     "data": {
      "text/plain": [
       "tripduration                     0\n",
       "starttime                        0\n",
       "stoptime                         0\n",
       "start_station_id              2677\n",
       "start_station_name            2677\n",
       "start_station_latitude           0\n",
       "start_station_longitude          0\n",
       "end_station_id                2677\n",
       "end_station_name              2677\n",
       "end_station_latitude             0\n",
       "end_station_longitude            0\n",
       "bikeid                           0\n",
       "usertype                     51780\n",
       "birth_year                 4528576\n",
       "gender                           0\n",
       "dtype: int64"
      ]
     },
     "execution_count": 9,
     "metadata": {},
     "output_type": "execute_result"
    }
   ],
   "source": [
    "# missing values per column\n",
    "citibike_transactions.isna().sum().compute()"
   ]
  },
  {
   "cell_type": "code",
   "execution_count": 48,
   "metadata": {
    "scrolled": false
   },
   "outputs": [],
   "source": [
    "# remove rows with missing start station values\n",
    "citibike_transactions = citibike_transactions.dropna(subset = ['start_station_id'])"
   ]
  },
  {
   "cell_type": "code",
   "execution_count": 20,
   "metadata": {},
   "outputs": [
    {
     "data": {
      "text/plain": [
       "78245640"
      ]
     },
     "execution_count": 20,
     "metadata": {},
     "output_type": "execute_result"
    }
   ],
   "source": [
    "len(citibike_transactions)"
   ]
  },
  {
   "cell_type": "code",
   "execution_count": 21,
   "metadata": {},
   "outputs": [
    {
     "data": {
      "text/html": [
       "<div>\n",
       "<style scoped>\n",
       "    .dataframe tbody tr th:only-of-type {\n",
       "        vertical-align: middle;\n",
       "    }\n",
       "\n",
       "    .dataframe tbody tr th {\n",
       "        vertical-align: top;\n",
       "    }\n",
       "\n",
       "    .dataframe thead th {\n",
       "        text-align: right;\n",
       "    }\n",
       "</style>\n",
       "<table border=\"1\" class=\"dataframe\">\n",
       "  <thead>\n",
       "    <tr style=\"text-align: right;\">\n",
       "      <th></th>\n",
       "      <th>tripduration</th>\n",
       "      <th>starttime</th>\n",
       "      <th>stoptime</th>\n",
       "      <th>start_station_id</th>\n",
       "      <th>start_station_name</th>\n",
       "      <th>start_station_latitude</th>\n",
       "      <th>start_station_longitude</th>\n",
       "      <th>end_station_id</th>\n",
       "      <th>end_station_name</th>\n",
       "      <th>end_station_latitude</th>\n",
       "      <th>end_station_longitude</th>\n",
       "      <th>bikeid</th>\n",
       "      <th>usertype</th>\n",
       "      <th>birth_year</th>\n",
       "      <th>gender</th>\n",
       "    </tr>\n",
       "  </thead>\n",
       "  <tbody>\n",
       "    <tr>\n",
       "      <th>0</th>\n",
       "      <td>1346.0</td>\n",
       "      <td>1/1/2015 0:01</td>\n",
       "      <td>1/1/2015 0:24</td>\n",
       "      <td>455.0</td>\n",
       "      <td>1 Ave &amp; E 44 St</td>\n",
       "      <td>40.750020</td>\n",
       "      <td>-73.969053</td>\n",
       "      <td>265.0</td>\n",
       "      <td>Stanton St &amp; Chrystie St</td>\n",
       "      <td>40.722293</td>\n",
       "      <td>-73.991475</td>\n",
       "      <td>18660.0</td>\n",
       "      <td>Subscriber</td>\n",
       "      <td>1960.0</td>\n",
       "      <td>2.0</td>\n",
       "    </tr>\n",
       "    <tr>\n",
       "      <th>1</th>\n",
       "      <td>363.0</td>\n",
       "      <td>1/1/2015 0:02</td>\n",
       "      <td>1/1/2015 0:08</td>\n",
       "      <td>434.0</td>\n",
       "      <td>9 Ave &amp; W 18 St</td>\n",
       "      <td>40.743174</td>\n",
       "      <td>-74.003664</td>\n",
       "      <td>482.0</td>\n",
       "      <td>W 15 St &amp; 7 Ave</td>\n",
       "      <td>40.739355</td>\n",
       "      <td>-73.999318</td>\n",
       "      <td>16085.0</td>\n",
       "      <td>Subscriber</td>\n",
       "      <td>1963.0</td>\n",
       "      <td>1.0</td>\n",
       "    </tr>\n",
       "    <tr>\n",
       "      <th>2</th>\n",
       "      <td>346.0</td>\n",
       "      <td>1/1/2015 0:04</td>\n",
       "      <td>1/1/2015 0:10</td>\n",
       "      <td>491.0</td>\n",
       "      <td>E 24 St &amp; Park Ave S</td>\n",
       "      <td>40.740964</td>\n",
       "      <td>-73.986022</td>\n",
       "      <td>505.0</td>\n",
       "      <td>6 Ave &amp; W 33 St</td>\n",
       "      <td>40.749013</td>\n",
       "      <td>-73.988484</td>\n",
       "      <td>20845.0</td>\n",
       "      <td>Subscriber</td>\n",
       "      <td>1974.0</td>\n",
       "      <td>1.0</td>\n",
       "    </tr>\n",
       "    <tr>\n",
       "      <th>3</th>\n",
       "      <td>182.0</td>\n",
       "      <td>1/1/2015 0:04</td>\n",
       "      <td>1/1/2015 0:07</td>\n",
       "      <td>384.0</td>\n",
       "      <td>Fulton St &amp; Waverly Ave</td>\n",
       "      <td>40.683178</td>\n",
       "      <td>-73.965964</td>\n",
       "      <td>399.0</td>\n",
       "      <td>Lafayette Ave &amp; St James Pl</td>\n",
       "      <td>40.688515</td>\n",
       "      <td>-73.964763</td>\n",
       "      <td>19610.0</td>\n",
       "      <td>Subscriber</td>\n",
       "      <td>1969.0</td>\n",
       "      <td>1.0</td>\n",
       "    </tr>\n",
       "    <tr>\n",
       "      <th>4</th>\n",
       "      <td>969.0</td>\n",
       "      <td>1/1/2015 0:05</td>\n",
       "      <td>1/1/2015 0:21</td>\n",
       "      <td>474.0</td>\n",
       "      <td>5 Ave &amp; E 29 St</td>\n",
       "      <td>40.745168</td>\n",
       "      <td>-73.986831</td>\n",
       "      <td>432.0</td>\n",
       "      <td>E 7 St &amp; Avenue A</td>\n",
       "      <td>40.726218</td>\n",
       "      <td>-73.983799</td>\n",
       "      <td>20197.0</td>\n",
       "      <td>Subscriber</td>\n",
       "      <td>1977.0</td>\n",
       "      <td>1.0</td>\n",
       "    </tr>\n",
       "  </tbody>\n",
       "</table>\n",
       "</div>"
      ],
      "text/plain": [
       "   tripduration      starttime       stoptime  start_station_id  \\\n",
       "0        1346.0  1/1/2015 0:01  1/1/2015 0:24             455.0   \n",
       "1         363.0  1/1/2015 0:02  1/1/2015 0:08             434.0   \n",
       "2         346.0  1/1/2015 0:04  1/1/2015 0:10             491.0   \n",
       "3         182.0  1/1/2015 0:04  1/1/2015 0:07             384.0   \n",
       "4         969.0  1/1/2015 0:05  1/1/2015 0:21             474.0   \n",
       "\n",
       "        start_station_name  start_station_latitude  start_station_longitude  \\\n",
       "0          1 Ave & E 44 St               40.750020               -73.969053   \n",
       "1          9 Ave & W 18 St               40.743174               -74.003664   \n",
       "2     E 24 St & Park Ave S               40.740964               -73.986022   \n",
       "3  Fulton St & Waverly Ave               40.683178               -73.965964   \n",
       "4          5 Ave & E 29 St               40.745168               -73.986831   \n",
       "\n",
       "   end_station_id             end_station_name  end_station_latitude  \\\n",
       "0           265.0     Stanton St & Chrystie St             40.722293   \n",
       "1           482.0              W 15 St & 7 Ave             40.739355   \n",
       "2           505.0              6 Ave & W 33 St             40.749013   \n",
       "3           399.0  Lafayette Ave & St James Pl             40.688515   \n",
       "4           432.0            E 7 St & Avenue A             40.726218   \n",
       "\n",
       "   end_station_longitude   bikeid    usertype  birth_year  gender  \n",
       "0             -73.991475  18660.0  Subscriber      1960.0     2.0  \n",
       "1             -73.999318  16085.0  Subscriber      1963.0     1.0  \n",
       "2             -73.988484  20845.0  Subscriber      1974.0     1.0  \n",
       "3             -73.964763  19610.0  Subscriber      1969.0     1.0  \n",
       "4             -73.983799  20197.0  Subscriber      1977.0     1.0  "
      ]
     },
     "execution_count": 21,
     "metadata": {},
     "output_type": "execute_result"
    }
   ],
   "source": [
    "citibike_transactions.head()"
   ]
  },
  {
   "cell_type": "code",
   "execution_count": 42,
   "metadata": {
    "scrolled": true
   },
   "outputs": [
    {
     "data": {
      "text/plain": [
       "tripduration                      float64\n",
       "starttime                  datetime64[ns]\n",
       "stoptime                   datetime64[ns]\n",
       "start_station_id                  float64\n",
       "start_station_name                 object\n",
       "start_station_latitude            float64\n",
       "start_station_longitude           float64\n",
       "end_station_id                    float64\n",
       "end_station_name                   object\n",
       "end_station_latitude              float64\n",
       "end_station_longitude             float64\n",
       "bikeid                            float64\n",
       "usertype                           object\n",
       "birth_year                        float64\n",
       "gender                            float64\n",
       "dtype: object"
      ]
     },
     "execution_count": 42,
     "metadata": {},
     "output_type": "execute_result"
    }
   ],
   "source": [
    "citibike_transactions.dtypes"
   ]
  },
  {
   "cell_type": "code",
   "execution_count": 3,
   "metadata": {},
   "outputs": [],
   "source": [
    "# store dataframe in parquet\n",
    "#citibike_transactions.to_parquet('citibike_transactions.parquet', engine='fastparquet')\n",
    "citibike_transactions = dd.read_parquet('/home/jlee_sbu/citibike_transactions.parquet', engine='fastparquet') "
   ]
  },
  {
   "cell_type": "markdown",
   "metadata": {},
   "source": [
    "## Aggregate data into daily ride counts per station"
   ]
  },
  {
   "cell_type": "code",
   "execution_count": 49,
   "metadata": {
    "scrolled": false
   },
   "outputs": [],
   "source": [
    "# aggregate data by date into pandas dataframe\n",
    "citibike_df = citibike_transactions.groupby([citibike_transactions.starttime.dt.date, \n",
    "                                     citibike_transactions.start_station_id, \n",
    "                                     citibike_transactions.start_station_name]).agg(\n",
    "                                            {'start_station_latitude':'mean', \n",
    "                                             'start_station_longitude':'mean',\n",
    "                                             'tripduration':'mean', \n",
    "                                             'start_station_id':'size'}).rename(\n",
    "                                            columns={'start_station_latitude':'start_station_latitude', \n",
    "                                                     'start_station_longitude':'start_station_longitude', \n",
    "                                                     'tripduration':'mean_duration', \n",
    "                                                     'start_station_id':'ride_counts'}).reset_index().compute()\n",
    "\n",
    "citibike_df.columns = ['date', 'station_id', 'station_name', 'station_latitude', \n",
    "                       'station_longitude', 'mean_duration', 'ride_counts']\n",
    "\n",
    "citibike_df.date = pd.to_datetime(citibike_df.date)\n",
    "citibike_df.station_id = citibike_df.station_id.astype(int)"
   ]
  },
  {
   "cell_type": "code",
   "execution_count": 509,
   "metadata": {
    "scrolled": false
   },
   "outputs": [
    {
     "data": {
      "text/html": [
       "<div>\n",
       "<style scoped>\n",
       "    .dataframe tbody tr th:only-of-type {\n",
       "        vertical-align: middle;\n",
       "    }\n",
       "\n",
       "    .dataframe tbody tr th {\n",
       "        vertical-align: top;\n",
       "    }\n",
       "\n",
       "    .dataframe thead th {\n",
       "        text-align: right;\n",
       "    }\n",
       "</style>\n",
       "<table border=\"1\" class=\"dataframe\">\n",
       "  <thead>\n",
       "    <tr style=\"text-align: right;\">\n",
       "      <th></th>\n",
       "      <th>date</th>\n",
       "      <th>station_id</th>\n",
       "      <th>station_name</th>\n",
       "      <th>station_latitude</th>\n",
       "      <th>station_longitude</th>\n",
       "      <th>mean_duration</th>\n",
       "      <th>ride_counts</th>\n",
       "    </tr>\n",
       "  </thead>\n",
       "  <tbody>\n",
       "    <tr>\n",
       "      <th>0</th>\n",
       "      <td>2015-01-01</td>\n",
       "      <td>72</td>\n",
       "      <td>W 52 St &amp; 11 Ave</td>\n",
       "      <td>40.767272</td>\n",
       "      <td>-73.993929</td>\n",
       "      <td>1062.700000</td>\n",
       "      <td>10</td>\n",
       "    </tr>\n",
       "    <tr>\n",
       "      <th>1</th>\n",
       "      <td>2015-01-01</td>\n",
       "      <td>79</td>\n",
       "      <td>Franklin St &amp; W Broadway</td>\n",
       "      <td>40.719116</td>\n",
       "      <td>-74.006667</td>\n",
       "      <td>880.133333</td>\n",
       "      <td>15</td>\n",
       "    </tr>\n",
       "    <tr>\n",
       "      <th>2</th>\n",
       "      <td>2015-01-01</td>\n",
       "      <td>82</td>\n",
       "      <td>St James Pl &amp; Pearl St</td>\n",
       "      <td>40.711174</td>\n",
       "      <td>-74.000165</td>\n",
       "      <td>535.000000</td>\n",
       "      <td>10</td>\n",
       "    </tr>\n",
       "    <tr>\n",
       "      <th>3</th>\n",
       "      <td>2015-01-01</td>\n",
       "      <td>83</td>\n",
       "      <td>Atlantic Ave &amp; Fort Greene Pl</td>\n",
       "      <td>40.683826</td>\n",
       "      <td>-73.976323</td>\n",
       "      <td>475.000000</td>\n",
       "      <td>7</td>\n",
       "    </tr>\n",
       "    <tr>\n",
       "      <th>4</th>\n",
       "      <td>2015-01-01</td>\n",
       "      <td>116</td>\n",
       "      <td>W 17 St &amp; 8 Ave</td>\n",
       "      <td>40.741776</td>\n",
       "      <td>-74.001497</td>\n",
       "      <td>773.357143</td>\n",
       "      <td>28</td>\n",
       "    </tr>\n",
       "  </tbody>\n",
       "</table>\n",
       "</div>"
      ],
      "text/plain": [
       "        date  station_id                   station_name  station_latitude  \\\n",
       "0 2015-01-01          72               W 52 St & 11 Ave         40.767272   \n",
       "1 2015-01-01          79       Franklin St & W Broadway         40.719116   \n",
       "2 2015-01-01          82         St James Pl & Pearl St         40.711174   \n",
       "3 2015-01-01          83  Atlantic Ave & Fort Greene Pl         40.683826   \n",
       "4 2015-01-01         116                W 17 St & 8 Ave         40.741776   \n",
       "\n",
       "   station_longitude  mean_duration  ride_counts  \n",
       "0         -73.993929    1062.700000           10  \n",
       "1         -74.006667     880.133333           15  \n",
       "2         -74.000165     535.000000           10  \n",
       "3         -73.976323     475.000000            7  \n",
       "4         -74.001497     773.357143           28  "
      ]
     },
     "execution_count": 509,
     "metadata": {},
     "output_type": "execute_result"
    }
   ],
   "source": [
    "# head of dataframe\n",
    "citibike_df.head()"
   ]
  },
  {
   "cell_type": "code",
   "execution_count": 510,
   "metadata": {},
   "outputs": [
    {
     "data": {
      "text/plain": [
       "date                 datetime64[ns]\n",
       "station_id                    int64\n",
       "station_name                 object\n",
       "station_latitude            float64\n",
       "station_longitude           float64\n",
       "mean_duration               float64\n",
       "ride_counts                   int64\n",
       "dtype: object"
      ]
     },
     "execution_count": 510,
     "metadata": {},
     "output_type": "execute_result"
    }
   ],
   "source": [
    "# datatypes of dataframe columns\n",
    "citibike_df.dtypes"
   ]
  },
  {
   "cell_type": "code",
   "execution_count": 50,
   "metadata": {},
   "outputs": [
    {
     "data": {
      "text/plain": [
       "(1104197, 7)"
      ]
     },
     "execution_count": 50,
     "metadata": {},
     "output_type": "execute_result"
    }
   ],
   "source": [
    "# shape of dataframe\n",
    "citibike_df.shape"
   ]
  },
  {
   "cell_type": "code",
   "execution_count": 82,
   "metadata": {
    "ExecuteTime": {
     "end_time": "2020-06-30T20:20:15.851112Z",
     "start_time": "2020-06-30T20:20:15.655257Z"
    }
   },
   "outputs": [],
   "source": [
    "# pickle dataframe\n",
    "#citibike_df.to_pickle('data/citibike_df_raw.pkl')\n",
    "citibike_df = pd.read_pickle('data/citibike_df_raw.pkl')"
   ]
  },
  {
   "cell_type": "code",
   "execution_count": 5,
   "metadata": {
    "ExecuteTime": {
     "end_time": "2020-06-25T01:17:05.697799Z",
     "start_time": "2020-06-25T01:17:05.674862Z"
    }
   },
   "outputs": [
    {
     "data": {
      "text/plain": [
       "1064"
      ]
     },
     "execution_count": 5,
     "metadata": {},
     "output_type": "execute_result"
    }
   ],
   "source": [
    "# number of unique stations\n",
    "len(citibike_df.station_id.unique())"
   ]
  },
  {
   "cell_type": "code",
   "execution_count": 515,
   "metadata": {},
   "outputs": [
    {
     "data": {
      "text/plain": [
       "1818"
      ]
     },
     "execution_count": 515,
     "metadata": {},
     "output_type": "execute_result"
    }
   ],
   "source": [
    "# number of unique dates present in data\n",
    "len(citibike_df.date.unique())"
   ]
  },
  {
   "cell_type": "code",
   "execution_count": 518,
   "metadata": {},
   "outputs": [
    {
     "data": {
      "text/plain": [
       "1826"
      ]
     },
     "execution_count": 518,
     "metadata": {},
     "output_type": "execute_result"
    }
   ],
   "source": [
    "# total number of calendar days from 1-1-2015 to 12-31-2019\n",
    "5*365+1 # add one day for leap year in 2016"
   ]
  },
  {
   "cell_type": "code",
   "execution_count": 102,
   "metadata": {
    "ExecuteTime": {
     "end_time": "2020-06-30T20:29:44.400079Z",
     "start_time": "2020-06-30T20:29:44.389551Z"
    },
    "run_control": {
     "marked": false
    }
   },
   "outputs": [],
   "source": [
    "# reload updated module\n",
    "importlib.reload(sys.modules['helper_functions'])\n",
    "from citibike_preprocessing import count_missing_dates"
   ]
  },
  {
   "cell_type": "code",
   "execution_count": 103,
   "metadata": {
    "ExecuteTime": {
     "end_time": "2020-06-30T20:29:48.104532Z",
     "start_time": "2020-06-30T20:29:44.646811Z"
    },
    "run_control": {
     "marked": false
    }
   },
   "outputs": [
    {
     "name": "stdout",
     "output_type": "stream",
     "text": [
      "Top 10 stations with the highest # of missing dates:\n",
      "station id 3252 :  1825\n",
      "station id 3385 :  1825\n",
      "station id 3446 :  1825\n",
      "station id 3248 :  1825\n",
      "station id 3633 :  1825\n",
      "station id 3685 :  1825\n",
      "station id 3253 :  1824\n",
      "station id 3257 :  1824\n",
      "station id 3266 :  1824\n",
      "station id 3197 :  1824\n"
     ]
    }
   ],
   "source": [
    "# top 10 stations with the most missing dates\n",
    "station_missing_dates, station_missing_dates_sorted = count_missing_dates(citibike_df) \n",
    "print(\"Top 10 stations with the highest # of missing dates:\")\n",
    "for r in station_missing_dates_sorted[0:10]:\n",
    "    print(\"station id\", r, \": \", station_missing_dates[r])"
   ]
  },
  {
   "cell_type": "code",
   "execution_count": 104,
   "metadata": {
    "ExecuteTime": {
     "end_time": "2020-06-30T20:29:53.739672Z",
     "start_time": "2020-06-30T20:29:53.520737Z"
    },
    "scrolled": true
   },
   "outputs": [
    {
     "name": "stdout",
     "output_type": "stream",
     "text": [
      "# of stations in existence before date: \n",
      "2015-02-01 :  330\n",
      "2016-02-01 :  490\n",
      "2017-02-01 :  665\n",
      "2018-02-01 :  864\n",
      "2019-02-01 :  913\n"
     ]
    }
   ],
   "source": [
    "# number of stations in existence in January of 2015-2019\n",
    "cutoffs = ['2015-02-01', '2016-02-01', '2017-02-01', '2018-02-01', '2019-02-01']\n",
    "print(\"# of stations in existence before date: \")\n",
    "for cutoff in cutoffs:\n",
    "    print(cutoff, \": \" , len(citibike_df[citibike_df.date < cutoff].station_id.unique()))"
   ]
  },
  {
   "cell_type": "code",
   "execution_count": 105,
   "metadata": {
    "ExecuteTime": {
     "end_time": "2020-06-30T20:30:04.911816Z",
     "start_time": "2020-06-30T20:30:04.880576Z"
    },
    "scrolled": true
   },
   "outputs": [
    {
     "data": {
      "text/plain": [
       "271"
      ]
     },
     "execution_count": 105,
     "metadata": {},
     "output_type": "execute_result"
    }
   ],
   "source": [
    "# number of stations that existed since January 2015 and still exist in December 2019\n",
    "stations_jan2015 = citibike_df[citibike_df.date < '2015-02-01'].station_id.unique()\n",
    "stations_dec2019 = citibike_df[citibike_df.date > '2019-11-30'].station_id.unique()\n",
    "stations = np.intersect1d(stations_jan2015, stations_dec2019)\n",
    "len(stations)"
   ]
  },
  {
   "cell_type": "code",
   "execution_count": 106,
   "metadata": {
    "ExecuteTime": {
     "end_time": "2020-06-30T20:30:26.186970Z",
     "start_time": "2020-06-30T20:30:25.999279Z"
    }
   },
   "outputs": [],
   "source": [
    "# filter dataframe down to the stations that existed since January 2015\n",
    "citibike_df = citibike_df[citibike_df.station_id.isin(stations)]"
   ]
  },
  {
   "cell_type": "code",
   "execution_count": 107,
   "metadata": {
    "ExecuteTime": {
     "end_time": "2020-06-30T20:30:30.761700Z",
     "start_time": "2020-06-30T20:30:30.089901Z"
    },
    "run_control": {
     "marked": false
    }
   },
   "outputs": [
    {
     "name": "stdout",
     "output_type": "stream",
     "text": [
      "Top 10 stations with the highest # of missing dates:\n",
      "station id 464 :  1464\n",
      "station id 489 :  1161\n",
      "station id 250 :  1135\n",
      "station id 367 :  1024\n",
      "station id 2017 :  735\n",
      "station id 493 :  681\n",
      "station id 224 :  622\n",
      "station id 434 :  618\n",
      "station id 116 :  599\n",
      "station id 298 :  518\n"
     ]
    }
   ],
   "source": [
    "# top 10 stations with the most missing dates\n",
    "station_missing_dates, station_missing_dates_sorted = count_missing_dates(citibike_df) \n",
    "print(\"Top 10 stations with the highest # of missing dates:\")\n",
    "for r in station_missing_dates_sorted[0:10]:\n",
    "    print(\"station id\", r, \": \", station_missing_dates[r])"
   ]
  },
  {
   "cell_type": "code",
   "execution_count": 108,
   "metadata": {
    "ExecuteTime": {
     "end_time": "2020-06-30T20:30:40.949577Z",
     "start_time": "2020-06-30T20:30:40.940743Z"
    }
   },
   "outputs": [
    {
     "data": {
      "text/plain": [
       "260"
      ]
     },
     "execution_count": 108,
     "metadata": {},
     "output_type": "execute_result"
    }
   ],
   "source": [
    "# number of stations to use \n",
    "stations = station_missing_dates_sorted[11:]\n",
    "len(stations)"
   ]
  },
  {
   "cell_type": "code",
   "execution_count": 109,
   "metadata": {
    "ExecuteTime": {
     "end_time": "2020-06-30T20:31:12.414565Z",
     "start_time": "2020-06-30T20:31:12.371033Z"
    }
   },
   "outputs": [],
   "source": [
    "# filter dataframe down to the stations that existed since January 2015\n",
    "citibike_df = citibike_df[citibike_df.station_id.isin(stations)]"
   ]
  },
  {
   "cell_type": "code",
   "execution_count": 110,
   "metadata": {
    "ExecuteTime": {
     "end_time": "2020-06-30T20:31:14.263013Z",
     "start_time": "2020-06-30T20:31:13.540854Z"
    },
    "run_control": {
     "marked": false
    }
   },
   "outputs": [
    {
     "name": "stdout",
     "output_type": "stream",
     "text": [
      "Top 10 stations with the highest # of missing dates:\n",
      "station id 403 :  397\n",
      "station id 284 :  391\n",
      "station id 223 :  326\n",
      "station id 385 :  290\n",
      "station id 439 :  214\n",
      "station id 540 :  209\n",
      "station id 316 :  183\n",
      "station id 533 :  179\n",
      "station id 405 :  164\n",
      "station id 2003 :  157\n"
     ]
    }
   ],
   "source": [
    "# top 10 stations with the most missing dates\n",
    "station_missing_dates, station_missing_dates_sorted = count_missing_dates(citibike_df) \n",
    "print(\"Top 10 stations with the highest # of missing dates:\")\n",
    "for r in station_missing_dates_sorted[0:10]:\n",
    "    print(\"station id\", r, \": \", station_missing_dates[r])"
   ]
  },
  {
   "cell_type": "code",
   "execution_count": 133,
   "metadata": {
    "ExecuteTime": {
     "end_time": "2020-06-30T20:43:58.365451Z",
     "start_time": "2020-06-30T20:43:58.015439Z"
    }
   },
   "outputs": [
    {
     "name": "stdout",
     "output_type": "stream",
     "text": [
      "Number of dates for station id 284 :\n",
      "year 2015 :  365\n",
      "year 2016 :  362\n",
      "year 2017 :  360\n",
      "year 2018 :  102\n",
      "year 2019 :  246\n",
      "Number of dates for station id 284 :\n",
      "month 1 :  120\n",
      "month 2 :  112\n",
      "month 3 :  120\n",
      "month 4 :  103\n",
      "month 5 :  124\n",
      "month 6 :  120\n",
      "month 7 :  124\n",
      "month 8 :  124\n",
      "month 9 :  120\n",
      "month 10 :  124\n",
      "month 11 :  120\n",
      "month 12 :  124\n"
     ]
    }
   ],
   "source": [
    "# station with the most missing dates, by year and month\n",
    "station = station_missing_dates_sorted[1]\n",
    "print(\"Number of dates for station id\", station, \":\")\n",
    "for i in range(2015, 2020):\n",
    "    print(\"year\", i, \": \", len(citibike_df[(citibike_df.station_id == station) & \n",
    "                                           (citibike_df.date.dt.year == i)].date))\n",
    "    \n",
    "print(\"Number of dates for station id\", station, \":\")\n",
    "for i in range(1, 13):\n",
    "    print(\"month\", i, \": \", len(citibike_df[(citibike_df.station_id == station) & \n",
    "                                            (citibike_df.date.dt.month == i)].date))    "
   ]
  },
  {
   "cell_type": "markdown",
   "metadata": {},
   "source": [
    "For station 284, there is no data for most of 2018"
   ]
  },
  {
   "cell_type": "code",
   "execution_count": 313,
   "metadata": {
    "scrolled": true
   },
   "outputs": [
    {
     "name": "stdout",
     "output_type": "stream",
     "text": [
      "Number of dates station 284 :\n",
      "year 2015 month 1 :  31\n",
      "year 2015 month 2 :  28\n",
      "year 2015 month 3 :  31\n",
      "year 2015 month 4 :  30\n",
      "year 2015 month 5 :  31\n",
      "year 2015 month 6 :  30\n",
      "year 2015 month 7 :  31\n",
      "year 2015 month 8 :  31\n",
      "year 2015 month 9 :  30\n",
      "year 2015 month 10 :  31\n",
      "year 2015 month 11 :  30\n",
      "year 2015 month 12 :  31\n",
      "year 2016 month 1 :  27\n",
      "year 2016 month 2 :  29\n",
      "year 2016 month 3 :  31\n",
      "year 2016 month 4 :  30\n",
      "year 2016 month 5 :  31\n",
      "year 2016 month 6 :  30\n",
      "year 2016 month 7 :  31\n",
      "year 2016 month 8 :  31\n",
      "year 2016 month 9 :  30\n",
      "year 2016 month 10 :  31\n",
      "year 2016 month 11 :  30\n",
      "year 2016 month 12 :  31\n",
      "year 2017 month 1 :  31\n",
      "year 2017 month 2 :  27\n",
      "year 2017 month 3 :  27\n",
      "year 2017 month 4 :  30\n",
      "year 2017 month 5 :  31\n",
      "year 2017 month 6 :  30\n",
      "year 2017 month 7 :  31\n",
      "year 2017 month 8 :  31\n",
      "year 2017 month 9 :  30\n",
      "year 2017 month 10 :  31\n",
      "year 2017 month 11 :  30\n",
      "year 2017 month 12 :  31\n",
      "year 2018 month 1 :  31\n",
      "year 2018 month 2 :  28\n",
      "year 2018 month 3 :  31\n",
      "year 2018 month 4 :  12\n",
      "year 2018 month 5 :  0\n",
      "year 2018 month 6 :  0\n",
      "year 2018 month 7 :  0\n",
      "year 2018 month 8 :  0\n",
      "year 2018 month 9 :  0\n",
      "year 2018 month 10 :  0\n",
      "year 2018 month 11 :  0\n",
      "year 2018 month 12 :  0\n",
      "year 2019 month 1 :  0\n",
      "year 2019 month 2 :  0\n",
      "year 2019 month 3 :  0\n",
      "year 2019 month 4 :  1\n",
      "year 2019 month 5 :  31\n",
      "year 2019 month 6 :  30\n",
      "year 2019 month 7 :  31\n",
      "year 2019 month 8 :  31\n",
      "year 2019 month 9 :  30\n",
      "year 2019 month 10 :  31\n",
      "year 2019 month 11 :  30\n",
      "year 2019 month 12 :  31\n"
     ]
    }
   ],
   "source": [
    "# station with the most missing dates\n",
    "station = station_missing_dates_sorted[1]\n",
    "print(\"Number of dates for station id\", station, \":\")\n",
    "for i in range(2015, 2020):\n",
    "    for j in range(1, 13):\n",
    "        print(\"year\", i, \"month\", j, \": \", len(citibike_df[(citibike_df.station_id == station) & \n",
    "                                                           (citibike_df.date.dt.year == i) & \n",
    "                                                           (citibike_df.date.dt.month == j)].date))"
   ]
  },
  {
   "cell_type": "code",
   "execution_count": 134,
   "metadata": {
    "ExecuteTime": {
     "end_time": "2020-06-30T20:47:54.294322Z",
     "start_time": "2020-06-30T20:47:53.359618Z"
    },
    "scrolled": false
   },
   "outputs": [],
   "source": [
    "# add in missing dates for each station with ride counts as zero\n",
    "citibike_df = citibike_df.reset_index(drop=True)\n",
    "citibike_df = citibike_df.set_index(['date', 'station_id']).unstack(\n",
    "    fill_value=0).asfreq('D', fill_value=0).stack().sort_index(level=1).reset_index()"
   ]
  },
  {
   "cell_type": "code",
   "execution_count": 142,
   "metadata": {
    "ExecuteTime": {
     "end_time": "2020-06-30T20:48:42.066760Z",
     "start_time": "2020-06-30T20:48:42.050945Z"
    }
   },
   "outputs": [
    {
     "data": {
      "text/html": [
       "<div>\n",
       "<style scoped>\n",
       "    .dataframe tbody tr th:only-of-type {\n",
       "        vertical-align: middle;\n",
       "    }\n",
       "\n",
       "    .dataframe tbody tr th {\n",
       "        vertical-align: top;\n",
       "    }\n",
       "\n",
       "    .dataframe thead th {\n",
       "        text-align: right;\n",
       "    }\n",
       "</style>\n",
       "<table border=\"1\" class=\"dataframe\">\n",
       "  <thead>\n",
       "    <tr style=\"text-align: right;\">\n",
       "      <th></th>\n",
       "      <th>date</th>\n",
       "      <th>station_id</th>\n",
       "      <th>station_name</th>\n",
       "      <th>station_latitude</th>\n",
       "      <th>station_longitude</th>\n",
       "      <th>mean_duration</th>\n",
       "      <th>ride_counts</th>\n",
       "    </tr>\n",
       "  </thead>\n",
       "  <tbody>\n",
       "    <tr>\n",
       "      <th>0</th>\n",
       "      <td>2015-01-01</td>\n",
       "      <td>72</td>\n",
       "      <td>W 52 St &amp; 11 Ave</td>\n",
       "      <td>40.767272</td>\n",
       "      <td>-73.993929</td>\n",
       "      <td>1062.700000</td>\n",
       "      <td>10</td>\n",
       "    </tr>\n",
       "    <tr>\n",
       "      <th>1</th>\n",
       "      <td>2015-01-02</td>\n",
       "      <td>72</td>\n",
       "      <td>W 52 St &amp; 11 Ave</td>\n",
       "      <td>40.767272</td>\n",
       "      <td>-73.993929</td>\n",
       "      <td>578.222222</td>\n",
       "      <td>27</td>\n",
       "    </tr>\n",
       "    <tr>\n",
       "      <th>2</th>\n",
       "      <td>2015-01-03</td>\n",
       "      <td>72</td>\n",
       "      <td>W 52 St &amp; 11 Ave</td>\n",
       "      <td>40.767272</td>\n",
       "      <td>-73.993929</td>\n",
       "      <td>838.307692</td>\n",
       "      <td>13</td>\n",
       "    </tr>\n",
       "    <tr>\n",
       "      <th>3</th>\n",
       "      <td>2015-01-04</td>\n",
       "      <td>72</td>\n",
       "      <td>W 52 St &amp; 11 Ave</td>\n",
       "      <td>40.767272</td>\n",
       "      <td>-73.993929</td>\n",
       "      <td>1051.423077</td>\n",
       "      <td>26</td>\n",
       "    </tr>\n",
       "    <tr>\n",
       "      <th>4</th>\n",
       "      <td>2015-01-05</td>\n",
       "      <td>72</td>\n",
       "      <td>W 52 St &amp; 11 Ave</td>\n",
       "      <td>40.767272</td>\n",
       "      <td>-73.993929</td>\n",
       "      <td>705.187500</td>\n",
       "      <td>32</td>\n",
       "    </tr>\n",
       "  </tbody>\n",
       "</table>\n",
       "</div>"
      ],
      "text/plain": [
       "        date  station_id      station_name  station_latitude  \\\n",
       "0 2015-01-01          72  W 52 St & 11 Ave         40.767272   \n",
       "1 2015-01-02          72  W 52 St & 11 Ave         40.767272   \n",
       "2 2015-01-03          72  W 52 St & 11 Ave         40.767272   \n",
       "3 2015-01-04          72  W 52 St & 11 Ave         40.767272   \n",
       "4 2015-01-05          72  W 52 St & 11 Ave         40.767272   \n",
       "\n",
       "   station_longitude  mean_duration  ride_counts  \n",
       "0         -73.993929    1062.700000           10  \n",
       "1         -73.993929     578.222222           27  \n",
       "2         -73.993929     838.307692           13  \n",
       "3         -73.993929    1051.423077           26  \n",
       "4         -73.993929     705.187500           32  "
      ]
     },
     "execution_count": 142,
     "metadata": {},
     "output_type": "execute_result"
    }
   ],
   "source": [
    "citibike_df.head()"
   ]
  },
  {
   "cell_type": "code",
   "execution_count": 139,
   "metadata": {
    "ExecuteTime": {
     "end_time": "2020-06-30T20:48:19.825651Z",
     "start_time": "2020-06-30T20:48:19.778129Z"
    }
   },
   "outputs": [
    {
     "data": {
      "text/html": [
       "<div>\n",
       "<style scoped>\n",
       "    .dataframe tbody tr th:only-of-type {\n",
       "        vertical-align: middle;\n",
       "    }\n",
       "\n",
       "    .dataframe tbody tr th {\n",
       "        vertical-align: top;\n",
       "    }\n",
       "\n",
       "    .dataframe thead th {\n",
       "        text-align: right;\n",
       "    }\n",
       "</style>\n",
       "<table border=\"1\" class=\"dataframe\">\n",
       "  <thead>\n",
       "    <tr style=\"text-align: right;\">\n",
       "      <th></th>\n",
       "      <th>date</th>\n",
       "      <th>station_id</th>\n",
       "      <th>station_name</th>\n",
       "      <th>station_latitude</th>\n",
       "      <th>station_longitude</th>\n",
       "      <th>mean_duration</th>\n",
       "      <th>ride_counts</th>\n",
       "    </tr>\n",
       "  </thead>\n",
       "  <tbody>\n",
       "    <tr>\n",
       "      <th>387</th>\n",
       "      <td>2016-01-23</td>\n",
       "      <td>72</td>\n",
       "      <td>0</td>\n",
       "      <td>0.0</td>\n",
       "      <td>0.0</td>\n",
       "      <td>0.0</td>\n",
       "      <td>0</td>\n",
       "    </tr>\n",
       "    <tr>\n",
       "      <th>388</th>\n",
       "      <td>2016-01-24</td>\n",
       "      <td>72</td>\n",
       "      <td>0</td>\n",
       "      <td>0.0</td>\n",
       "      <td>0.0</td>\n",
       "      <td>0.0</td>\n",
       "      <td>0</td>\n",
       "    </tr>\n",
       "    <tr>\n",
       "      <th>389</th>\n",
       "      <td>2016-01-25</td>\n",
       "      <td>72</td>\n",
       "      <td>0</td>\n",
       "      <td>0.0</td>\n",
       "      <td>0.0</td>\n",
       "      <td>0.0</td>\n",
       "      <td>0</td>\n",
       "    </tr>\n",
       "    <tr>\n",
       "      <th>390</th>\n",
       "      <td>2016-01-26</td>\n",
       "      <td>72</td>\n",
       "      <td>0</td>\n",
       "      <td>0.0</td>\n",
       "      <td>0.0</td>\n",
       "      <td>0.0</td>\n",
       "      <td>0</td>\n",
       "    </tr>\n",
       "    <tr>\n",
       "      <th>770</th>\n",
       "      <td>2017-02-09</td>\n",
       "      <td>72</td>\n",
       "      <td>0</td>\n",
       "      <td>0.0</td>\n",
       "      <td>0.0</td>\n",
       "      <td>0.0</td>\n",
       "      <td>0</td>\n",
       "    </tr>\n",
       "    <tr>\n",
       "      <th>...</th>\n",
       "      <td>...</td>\n",
       "      <td>...</td>\n",
       "      <td>...</td>\n",
       "      <td>...</td>\n",
       "      <td>...</td>\n",
       "      <td>...</td>\n",
       "      <td>...</td>\n",
       "    </tr>\n",
       "    <tr>\n",
       "      <th>473324</th>\n",
       "      <td>2016-01-26</td>\n",
       "      <td>3002</td>\n",
       "      <td>0</td>\n",
       "      <td>0.0</td>\n",
       "      <td>0.0</td>\n",
       "      <td>0.0</td>\n",
       "      <td>0</td>\n",
       "    </tr>\n",
       "    <tr>\n",
       "      <th>473704</th>\n",
       "      <td>2017-02-09</td>\n",
       "      <td>3002</td>\n",
       "      <td>0</td>\n",
       "      <td>0.0</td>\n",
       "      <td>0.0</td>\n",
       "      <td>0.0</td>\n",
       "      <td>0</td>\n",
       "    </tr>\n",
       "    <tr>\n",
       "      <th>473737</th>\n",
       "      <td>2017-03-14</td>\n",
       "      <td>3002</td>\n",
       "      <td>0</td>\n",
       "      <td>0.0</td>\n",
       "      <td>0.0</td>\n",
       "      <td>0.0</td>\n",
       "      <td>0</td>\n",
       "    </tr>\n",
       "    <tr>\n",
       "      <th>473738</th>\n",
       "      <td>2017-03-15</td>\n",
       "      <td>3002</td>\n",
       "      <td>0</td>\n",
       "      <td>0.0</td>\n",
       "      <td>0.0</td>\n",
       "      <td>0.0</td>\n",
       "      <td>0</td>\n",
       "    </tr>\n",
       "    <tr>\n",
       "      <th>473739</th>\n",
       "      <td>2017-03-16</td>\n",
       "      <td>3002</td>\n",
       "      <td>0</td>\n",
       "      <td>0.0</td>\n",
       "      <td>0.0</td>\n",
       "      <td>0.0</td>\n",
       "      <td>0</td>\n",
       "    </tr>\n",
       "  </tbody>\n",
       "</table>\n",
       "<p>11010 rows × 7 columns</p>\n",
       "</div>"
      ],
      "text/plain": [
       "             date  station_id station_name  station_latitude  \\\n",
       "387    2016-01-23          72            0               0.0   \n",
       "388    2016-01-24          72            0               0.0   \n",
       "389    2016-01-25          72            0               0.0   \n",
       "390    2016-01-26          72            0               0.0   \n",
       "770    2017-02-09          72            0               0.0   \n",
       "...           ...         ...          ...               ...   \n",
       "473324 2016-01-26        3002            0               0.0   \n",
       "473704 2017-02-09        3002            0               0.0   \n",
       "473737 2017-03-14        3002            0               0.0   \n",
       "473738 2017-03-15        3002            0               0.0   \n",
       "473739 2017-03-16        3002            0               0.0   \n",
       "\n",
       "        station_longitude  mean_duration  ride_counts  \n",
       "387                   0.0            0.0            0  \n",
       "388                   0.0            0.0            0  \n",
       "389                   0.0            0.0            0  \n",
       "390                   0.0            0.0            0  \n",
       "770                   0.0            0.0            0  \n",
       "...                   ...            ...          ...  \n",
       "473324                0.0            0.0            0  \n",
       "473704                0.0            0.0            0  \n",
       "473737                0.0            0.0            0  \n",
       "473738                0.0            0.0            0  \n",
       "473739                0.0            0.0            0  \n",
       "\n",
       "[11010 rows x 7 columns]"
      ]
     },
     "execution_count": 139,
     "metadata": {},
     "output_type": "execute_result"
    }
   ],
   "source": [
    "citibike_df[citibike_df.ride_counts == 0]"
   ]
  },
  {
   "cell_type": "code",
   "execution_count": 137,
   "metadata": {
    "ExecuteTime": {
     "end_time": "2020-06-30T20:48:02.150102Z",
     "start_time": "2020-06-30T20:48:02.141983Z"
    }
   },
   "outputs": [
    {
     "data": {
      "text/plain": [
       "(474760, 7)"
      ]
     },
     "execution_count": 137,
     "metadata": {},
     "output_type": "execute_result"
    }
   ],
   "source": [
    "citibike_df.shape"
   ]
  },
  {
   "cell_type": "code",
   "execution_count": 144,
   "metadata": {
    "ExecuteTime": {
     "end_time": "2020-06-30T20:49:23.127078Z",
     "start_time": "2020-06-30T20:49:23.025678Z"
    }
   },
   "outputs": [],
   "source": [
    "# pickle dataframe\n",
    "#citibike_df.to_pickle('data/citibike_df.pkl')\n",
    "citibike_df = pd.read_pickle('data/citibike_df.pkl')"
   ]
  },
  {
   "cell_type": "markdown",
   "metadata": {},
   "source": [
    "## Aggregate ride counts for each station by year-month"
   ]
  },
  {
   "cell_type": "code",
   "execution_count": 13,
   "metadata": {},
   "outputs": [
    {
     "data": {
      "text/html": [
       "<div>\n",
       "<style scoped>\n",
       "    .dataframe tbody tr th:only-of-type {\n",
       "        vertical-align: middle;\n",
       "    }\n",
       "\n",
       "    .dataframe tbody tr th {\n",
       "        vertical-align: top;\n",
       "    }\n",
       "\n",
       "    .dataframe thead th {\n",
       "        text-align: right;\n",
       "    }\n",
       "</style>\n",
       "<table border=\"1\" class=\"dataframe\">\n",
       "  <thead>\n",
       "    <tr style=\"text-align: right;\">\n",
       "      <th></th>\n",
       "      <th>date</th>\n",
       "      <th>station_id</th>\n",
       "      <th>station_name</th>\n",
       "      <th>station_latitude</th>\n",
       "      <th>station_longitude</th>\n",
       "      <th>mean_duration</th>\n",
       "      <th>ride_counts</th>\n",
       "    </tr>\n",
       "  </thead>\n",
       "  <tbody>\n",
       "    <tr>\n",
       "      <th>0</th>\n",
       "      <td>2015-01-01</td>\n",
       "      <td>72</td>\n",
       "      <td>W 52 St &amp; 11 Ave</td>\n",
       "      <td>40.767272</td>\n",
       "      <td>-73.993929</td>\n",
       "      <td>1062.700000</td>\n",
       "      <td>10</td>\n",
       "    </tr>\n",
       "    <tr>\n",
       "      <th>1</th>\n",
       "      <td>2015-01-02</td>\n",
       "      <td>72</td>\n",
       "      <td>W 52 St &amp; 11 Ave</td>\n",
       "      <td>40.767272</td>\n",
       "      <td>-73.993929</td>\n",
       "      <td>578.222222</td>\n",
       "      <td>27</td>\n",
       "    </tr>\n",
       "    <tr>\n",
       "      <th>2</th>\n",
       "      <td>2015-01-03</td>\n",
       "      <td>72</td>\n",
       "      <td>W 52 St &amp; 11 Ave</td>\n",
       "      <td>40.767272</td>\n",
       "      <td>-73.993929</td>\n",
       "      <td>838.307692</td>\n",
       "      <td>13</td>\n",
       "    </tr>\n",
       "    <tr>\n",
       "      <th>3</th>\n",
       "      <td>2015-01-04</td>\n",
       "      <td>72</td>\n",
       "      <td>W 52 St &amp; 11 Ave</td>\n",
       "      <td>40.767272</td>\n",
       "      <td>-73.993929</td>\n",
       "      <td>1051.423077</td>\n",
       "      <td>26</td>\n",
       "    </tr>\n",
       "    <tr>\n",
       "      <th>4</th>\n",
       "      <td>2015-01-05</td>\n",
       "      <td>72</td>\n",
       "      <td>W 52 St &amp; 11 Ave</td>\n",
       "      <td>40.767272</td>\n",
       "      <td>-73.993929</td>\n",
       "      <td>705.187500</td>\n",
       "      <td>32</td>\n",
       "    </tr>\n",
       "  </tbody>\n",
       "</table>\n",
       "</div>"
      ],
      "text/plain": [
       "        date  station_id      station_name  station_latitude  \\\n",
       "0 2015-01-01          72  W 52 St & 11 Ave         40.767272   \n",
       "1 2015-01-02          72  W 52 St & 11 Ave         40.767272   \n",
       "2 2015-01-03          72  W 52 St & 11 Ave         40.767272   \n",
       "3 2015-01-04          72  W 52 St & 11 Ave         40.767272   \n",
       "4 2015-01-05          72  W 52 St & 11 Ave         40.767272   \n",
       "\n",
       "   station_longitude  mean_duration  ride_counts  \n",
       "0         -73.993929    1062.700000           10  \n",
       "1         -73.993929     578.222222           27  \n",
       "2         -73.993929     838.307692           13  \n",
       "3         -73.993929    1051.423077           26  \n",
       "4         -73.993929     705.187500           32  "
      ]
     },
     "execution_count": 13,
     "metadata": {},
     "output_type": "execute_result"
    }
   ],
   "source": [
    "citibike_df.head()"
   ]
  },
  {
   "cell_type": "code",
   "execution_count": 156,
   "metadata": {
    "ExecuteTime": {
     "end_time": "2020-06-30T21:17:23.531652Z",
     "start_time": "2020-06-30T21:17:23.435618Z"
    },
    "run_control": {
     "marked": false
    }
   },
   "outputs": [
    {
     "data": {
      "text/html": [
       "<div>\n",
       "<style scoped>\n",
       "    .dataframe tbody tr th:only-of-type {\n",
       "        vertical-align: middle;\n",
       "    }\n",
       "\n",
       "    .dataframe tbody tr th {\n",
       "        vertical-align: top;\n",
       "    }\n",
       "\n",
       "    .dataframe thead th {\n",
       "        text-align: right;\n",
       "    }\n",
       "</style>\n",
       "<table border=\"1\" class=\"dataframe\">\n",
       "  <thead>\n",
       "    <tr style=\"text-align: right;\">\n",
       "      <th></th>\n",
       "      <th>station_id</th>\n",
       "      <th>year</th>\n",
       "      <th>month</th>\n",
       "      <th>count_missing_dates</th>\n",
       "    </tr>\n",
       "  </thead>\n",
       "  <tbody>\n",
       "    <tr>\n",
       "      <th>0</th>\n",
       "      <td>72</td>\n",
       "      <td>2016</td>\n",
       "      <td>1</td>\n",
       "      <td>4</td>\n",
       "    </tr>\n",
       "    <tr>\n",
       "      <th>1</th>\n",
       "      <td>72</td>\n",
       "      <td>2017</td>\n",
       "      <td>2</td>\n",
       "      <td>2</td>\n",
       "    </tr>\n",
       "    <tr>\n",
       "      <th>2</th>\n",
       "      <td>72</td>\n",
       "      <td>2017</td>\n",
       "      <td>3</td>\n",
       "      <td>4</td>\n",
       "    </tr>\n",
       "    <tr>\n",
       "      <th>3</th>\n",
       "      <td>72</td>\n",
       "      <td>2019</td>\n",
       "      <td>10</td>\n",
       "      <td>10</td>\n",
       "    </tr>\n",
       "    <tr>\n",
       "      <th>4</th>\n",
       "      <td>72</td>\n",
       "      <td>2019</td>\n",
       "      <td>11</td>\n",
       "      <td>3</td>\n",
       "    </tr>\n",
       "  </tbody>\n",
       "</table>\n",
       "</div>"
      ],
      "text/plain": [
       "   station_id  year  month  count_missing_dates\n",
       "0          72  2016      1                    4\n",
       "1          72  2017      2                    2\n",
       "2          72  2017      3                    4\n",
       "3          72  2019     10                   10\n",
       "4          72  2019     11                    3"
      ]
     },
     "execution_count": 156,
     "metadata": {},
     "output_type": "execute_result"
    }
   ],
   "source": [
    "# aggregate number of missing dates for every month-year by station\n",
    "citibike_grouped = citibike_df[citibike_df.ride_counts == 0].groupby(\n",
    "    [citibike_df.station_id, citibike_df.date.dt.year, citibike_df.date.dt.month]).date.agg(\n",
    "    count_missing_dates=('date', 'nunique'))\n",
    "\n",
    "citibike_grouped.index.names = ['station_id', 'year', 'month']\n",
    "citibike_grouped = citibike_grouped.reset_index()\n",
    "\n",
    "citibike_grouped.head()"
   ]
  },
  {
   "cell_type": "code",
   "execution_count": 158,
   "metadata": {
    "ExecuteTime": {
     "end_time": "2020-06-30T21:19:19.452268Z",
     "start_time": "2020-06-30T21:19:19.429693Z"
    },
    "scrolled": true
   },
   "outputs": [
    {
     "data": {
      "text/html": [
       "<div>\n",
       "<style scoped>\n",
       "    .dataframe tbody tr th:only-of-type {\n",
       "        vertical-align: middle;\n",
       "    }\n",
       "\n",
       "    .dataframe tbody tr th {\n",
       "        vertical-align: top;\n",
       "    }\n",
       "\n",
       "    .dataframe thead th {\n",
       "        text-align: right;\n",
       "    }\n",
       "</style>\n",
       "<table border=\"1\" class=\"dataframe\">\n",
       "  <thead>\n",
       "    <tr style=\"text-align: right;\">\n",
       "      <th></th>\n",
       "      <th>station_id</th>\n",
       "      <th>months_missing_more_than_ten_dates</th>\n",
       "    </tr>\n",
       "  </thead>\n",
       "  <tbody>\n",
       "    <tr>\n",
       "      <th>0</th>\n",
       "      <td>403</td>\n",
       "      <td>13</td>\n",
       "    </tr>\n",
       "    <tr>\n",
       "      <th>1</th>\n",
       "      <td>284</td>\n",
       "      <td>13</td>\n",
       "    </tr>\n",
       "    <tr>\n",
       "      <th>2</th>\n",
       "      <td>223</td>\n",
       "      <td>11</td>\n",
       "    </tr>\n",
       "    <tr>\n",
       "      <th>3</th>\n",
       "      <td>385</td>\n",
       "      <td>9</td>\n",
       "    </tr>\n",
       "    <tr>\n",
       "      <th>4</th>\n",
       "      <td>439</td>\n",
       "      <td>8</td>\n",
       "    </tr>\n",
       "    <tr>\n",
       "      <th>...</th>\n",
       "      <td>...</td>\n",
       "      <td>...</td>\n",
       "    </tr>\n",
       "    <tr>\n",
       "      <th>109</th>\n",
       "      <td>334</td>\n",
       "      <td>1</td>\n",
       "    </tr>\n",
       "    <tr>\n",
       "      <th>110</th>\n",
       "      <td>328</td>\n",
       "      <td>1</td>\n",
       "    </tr>\n",
       "    <tr>\n",
       "      <th>111</th>\n",
       "      <td>325</td>\n",
       "      <td>1</td>\n",
       "    </tr>\n",
       "    <tr>\n",
       "      <th>112</th>\n",
       "      <td>394</td>\n",
       "      <td>1</td>\n",
       "    </tr>\n",
       "    <tr>\n",
       "      <th>113</th>\n",
       "      <td>268</td>\n",
       "      <td>1</td>\n",
       "    </tr>\n",
       "  </tbody>\n",
       "</table>\n",
       "<p>114 rows × 2 columns</p>\n",
       "</div>"
      ],
      "text/plain": [
       "     station_id  months_missing_more_than_ten_dates\n",
       "0           403                                  13\n",
       "1           284                                  13\n",
       "2           223                                  11\n",
       "3           385                                   9\n",
       "4           439                                   8\n",
       "..          ...                                 ...\n",
       "109         334                                   1\n",
       "110         328                                   1\n",
       "111         325                                   1\n",
       "112         394                                   1\n",
       "113         268                                   1\n",
       "\n",
       "[114 rows x 2 columns]"
      ]
     },
     "execution_count": 158,
     "metadata": {},
     "output_type": "execute_result"
    }
   ],
   "source": [
    "# number of months where month is missing 10 or more days\n",
    "stations_missing_majority_months = \\\n",
    "    citibike_grouped[citibike_grouped.count_missing_dates > 10].groupby(['station_id']).agg(\n",
    "    {'count_missing_dates':'size'}).sort_values(\n",
    "    'count_missing_dates', ascending=False).rename(\n",
    "    columns={'count_missing_dates':'months_missing_more_than_ten_dates'}).reset_index()\n",
    "\n",
    "stations_missing_majority_months"
   ]
  },
  {
   "cell_type": "code",
   "execution_count": 164,
   "metadata": {
    "ExecuteTime": {
     "end_time": "2020-06-30T21:22:44.933633Z",
     "start_time": "2020-06-30T21:22:44.878504Z"
    }
   },
   "outputs": [],
   "source": [
    "# stations with more than 1 month where month is missing 10 or more days\n",
    "exclude_stations = stations_missing_majority_months[stations_missing_majority_months.\n",
    "                                                    months_missing_more_than_ten_dates > 1].station_id\n",
    "\n",
    "# exclude those stations\n",
    "citibike_grouped = citibike_grouped[~citibike_grouped.station_id.isin(exclude_stations)]\n",
    "citibike_df = citibike_df[~citibike_df.station_id.isin(exclude_stations)]"
   ]
  },
  {
   "cell_type": "code",
   "execution_count": 101,
   "metadata": {
    "ExecuteTime": {
     "end_time": "2020-06-08T01:38:55.164148Z",
     "start_time": "2020-06-08T01:38:55.155022Z"
    },
    "scrolled": false
   },
   "outputs": [
    {
     "data": {
      "text/plain": [
       "4         72\n",
       "141      173\n",
       "372      274\n",
       "646      337\n",
       "1060     421\n",
       "1144     443\n",
       "1261     467\n",
       "1285     469\n",
       "1331     477\n",
       "1404     490\n",
       "1424     495\n",
       "1425     495\n",
       "1448     500\n",
       "1665     539\n",
       "1705    2002\n",
       "1725    2006\n",
       "Name: station_id, dtype: int64"
      ]
     },
     "execution_count": 101,
     "metadata": {},
     "output_type": "execute_result"
    }
   ],
   "source": [
    "# stations with missing dates in Nov and Dec 2019 (validation and test sets)\n",
    "citibike_grouped[(citibike_grouped.year == 2019) & \n",
    "                 (citibike_grouped.month.isin([11, 12]))].station_id"
   ]
  },
  {
   "cell_type": "code",
   "execution_count": 171,
   "metadata": {
    "ExecuteTime": {
     "end_time": "2020-06-30T21:25:49.739161Z",
     "start_time": "2020-06-30T21:25:49.691631Z"
    }
   },
   "outputs": [],
   "source": [
    "# exclude the stations with missing dates in the last month of the dataset (test set)\n",
    "exclude_stations = citibike_grouped[(citibike_grouped.year==2019) & \n",
    "                                    (citibike_grouped.month.isin([11, 12]))].station_id\n",
    "citibike_grouped = citibike_grouped[~citibike_grouped.station_id.isin(exclude_stations)]\n",
    "citibike_df = citibike_df[~citibike_df.station_id.isin(exclude_stations)]"
   ]
  },
  {
   "cell_type": "code",
   "execution_count": 172,
   "metadata": {
    "ExecuteTime": {
     "end_time": "2020-06-30T21:25:51.365455Z",
     "start_time": "2020-06-30T21:25:51.353937Z"
    }
   },
   "outputs": [
    {
     "data": {
      "text/plain": [
       "182"
      ]
     },
     "execution_count": 172,
     "metadata": {},
     "output_type": "execute_result"
    }
   ],
   "source": [
    "# number of stations to move forward with\n",
    "len(citibike_df.station_id.unique())"
   ]
  },
  {
   "cell_type": "code",
   "execution_count": 108,
   "metadata": {
    "ExecuteTime": {
     "end_time": "2020-06-08T01:42:08.476086Z",
     "start_time": "2020-06-08T01:42:08.209589Z"
    },
    "code_folding": []
   },
   "outputs": [
    {
     "data": {
      "image/png": "[encoded data removed]",
      "text/plain": [
       "<Figure size 432x288 with 1 Axes>"
      ]
     },
     "metadata": {},
     "output_type": "display_data"
    }
   ],
   "source": [
    "# plot daily ride counts across all stations, to help decide on imputation method\n",
    "plt.plot(citibike_df.groupby(['date']).agg({'ride_counts':'sum'}))\n",
    "plt.title('Daily volume of Citibike rides')\n",
    "plt.xlabel('Date')\n",
    "plt.ylabel('# of Citibike rides');"
   ]
  },
  {
   "cell_type": "code",
   "execution_count": 109,
   "metadata": {
    "ExecuteTime": {
     "end_time": "2020-06-08T01:42:12.295070Z",
     "start_time": "2020-06-08T01:42:11.908313Z"
    },
    "code_folding": []
   },
   "outputs": [
    {
     "data": {
      "image/png": "[encoded data removed]",
      "text/plain": [
       "<Figure size 432x288 with 1 Axes>"
      ]
     },
     "metadata": {},
     "output_type": "display_data"
    }
   ],
   "source": [
    "# plot daily ride counts across all stations for a particular year, to help decide on imputation method\n",
    "plt.plot(citibike_df[citibike_df.date.dt.year == 2017].groupby(['date']).agg({'ride_counts':'sum'}))\n",
    "plt.title('Daily volume of Citibike rides')\n",
    "plt.xlabel('Date')\n",
    "plt.ylabel('# of Citibike rides');"
   ]
  },
  {
   "cell_type": "markdown",
   "metadata": {},
   "source": [
    "## Impute missing values"
   ]
  },
  {
   "cell_type": "code",
   "execution_count": 152,
   "metadata": {
    "ExecuteTime": {
     "end_time": "2020-06-08T01:56:31.708125Z",
     "start_time": "2020-06-08T01:56:31.598669Z"
    },
    "scrolled": false
   },
   "outputs": [
    {
     "data": {
      "text/html": [
       "<div>\n",
       "<style scoped>\n",
       "    .dataframe tbody tr th:only-of-type {\n",
       "        vertical-align: middle;\n",
       "    }\n",
       "\n",
       "    .dataframe tbody tr th {\n",
       "        vertical-align: top;\n",
       "    }\n",
       "\n",
       "    .dataframe thead th {\n",
       "        text-align: right;\n",
       "    }\n",
       "</style>\n",
       "<table border=\"1\" class=\"dataframe\">\n",
       "  <thead>\n",
       "    <tr style=\"text-align: right;\">\n",
       "      <th></th>\n",
       "      <th>date</th>\n",
       "      <th>station_id</th>\n",
       "      <th>station_name</th>\n",
       "      <th>station_latitude</th>\n",
       "      <th>station_longitude</th>\n",
       "      <th>mean_duration</th>\n",
       "      <th>year</th>\n",
       "      <th>month</th>\n",
       "      <th>ride_counts</th>\n",
       "    </tr>\n",
       "  </thead>\n",
       "  <tbody>\n",
       "    <tr>\n",
       "      <th>1826</th>\n",
       "      <td>2015-01-01</td>\n",
       "      <td>79</td>\n",
       "      <td>Franklin St &amp; W Broadway</td>\n",
       "      <td>40.719116</td>\n",
       "      <td>-74.006667</td>\n",
       "      <td>880.133333</td>\n",
       "      <td>2015</td>\n",
       "      <td>1</td>\n",
       "      <td>15</td>\n",
       "    </tr>\n",
       "    <tr>\n",
       "      <th>1827</th>\n",
       "      <td>2015-01-02</td>\n",
       "      <td>79</td>\n",
       "      <td>Franklin St &amp; W Broadway</td>\n",
       "      <td>40.719116</td>\n",
       "      <td>-74.006667</td>\n",
       "      <td>1499.818182</td>\n",
       "      <td>2015</td>\n",
       "      <td>1</td>\n",
       "      <td>22</td>\n",
       "    </tr>\n",
       "    <tr>\n",
       "      <th>1828</th>\n",
       "      <td>2015-01-03</td>\n",
       "      <td>79</td>\n",
       "      <td>Franklin St &amp; W Broadway</td>\n",
       "      <td>40.719116</td>\n",
       "      <td>-74.006667</td>\n",
       "      <td>432.266667</td>\n",
       "      <td>2015</td>\n",
       "      <td>1</td>\n",
       "      <td>15</td>\n",
       "    </tr>\n",
       "    <tr>\n",
       "      <th>1829</th>\n",
       "      <td>2015-01-04</td>\n",
       "      <td>79</td>\n",
       "      <td>Franklin St &amp; W Broadway</td>\n",
       "      <td>40.719116</td>\n",
       "      <td>-74.006667</td>\n",
       "      <td>693.666667</td>\n",
       "      <td>2015</td>\n",
       "      <td>1</td>\n",
       "      <td>27</td>\n",
       "    </tr>\n",
       "    <tr>\n",
       "      <th>1830</th>\n",
       "      <td>2015-01-05</td>\n",
       "      <td>79</td>\n",
       "      <td>Franklin St &amp; W Broadway</td>\n",
       "      <td>40.719116</td>\n",
       "      <td>-74.006667</td>\n",
       "      <td>669.000000</td>\n",
       "      <td>2015</td>\n",
       "      <td>1</td>\n",
       "      <td>27</td>\n",
       "    </tr>\n",
       "  </tbody>\n",
       "</table>\n",
       "</div>"
      ],
      "text/plain": [
       "           date  station_id              station_name  station_latitude  \\\n",
       "1826 2015-01-01          79  Franklin St & W Broadway         40.719116   \n",
       "1827 2015-01-02          79  Franklin St & W Broadway         40.719116   \n",
       "1828 2015-01-03          79  Franklin St & W Broadway         40.719116   \n",
       "1829 2015-01-04          79  Franklin St & W Broadway         40.719116   \n",
       "1830 2015-01-05          79  Franklin St & W Broadway         40.719116   \n",
       "\n",
       "      station_longitude  mean_duration  year  month  ride_counts  \n",
       "1826         -74.006667     880.133333  2015      1           15  \n",
       "1827         -74.006667    1499.818182  2015      1           22  \n",
       "1828         -74.006667     432.266667  2015      1           15  \n",
       "1829         -74.006667     693.666667  2015      1           27  \n",
       "1830         -74.006667     669.000000  2015      1           27  "
      ]
     },
     "execution_count": 152,
     "metadata": {},
     "output_type": "execute_result"
    }
   ],
   "source": [
    "# create year and month columns\n",
    "citibike_df.loc[:, 'year'] = citibike_df.date.dt.year\n",
    "citibike_df.loc[:, 'month'] = citibike_df.date.dt.month\n",
    "\n",
    "# reorder columns\n",
    "citibike_df = citibike_df[['date', 'station_id', 'station_name', 'station_latitude', 'station_longitude',\n",
    "                           'mean_duration', 'year', 'month', 'ride_counts']]\n",
    "\n",
    "citibike_df.head()"
   ]
  },
  {
   "cell_type": "code",
   "execution_count": 153,
   "metadata": {
    "ExecuteTime": {
     "end_time": "2020-06-08T01:56:39.154838Z",
     "start_time": "2020-06-08T01:56:38.719851Z"
    }
   },
   "outputs": [],
   "source": [
    "# add new counts column that replace zero ride counts with rolling 90-day median value per station\n",
    "citibike_df['replace_zeroes'] = \\\n",
    "    citibike_df.groupby('station_id')['ride_counts'].rolling(\n",
    "    window=90, min_periods=1).median().shift(1).apply(np.floor).reset_index(0, drop=True)\n",
    "\n",
    "citibike_df['ride_counts_clean'] = citibike_df.ride_counts\n",
    "citibike_df.loc[citibike_df.ride_counts != 0, ['replace_zeroes']] = np.nan\n",
    "citibike_df.loc[citibike_df.ride_counts == 0, ['ride_counts_clean']] = citibike_df.replace_zeroes\n",
    "\n",
    "# convert ride counts imputed to int datatype\n",
    "citibike_df.ride_counts_clean = citibike_df.ride_counts_clean.astype(int) "
   ]
  },
  {
   "cell_type": "code",
   "execution_count": 154,
   "metadata": {
    "ExecuteTime": {
     "end_time": "2020-06-08T01:56:42.578911Z",
     "start_time": "2020-06-08T01:56:42.573802Z"
    }
   },
   "outputs": [
    {
     "data": {
      "text/plain": [
       "(332332, 11)"
      ]
     },
     "execution_count": 154,
     "metadata": {},
     "output_type": "execute_result"
    }
   ],
   "source": [
    "# new shape\n",
    "citibike_df.shape"
   ]
  },
  {
   "cell_type": "code",
   "execution_count": 178,
   "metadata": {
    "ExecuteTime": {
     "end_time": "2020-06-30T21:29:50.701328Z",
     "start_time": "2020-06-30T21:29:50.392908Z"
    }
   },
   "outputs": [
    {
     "data": {
      "image/png": "[encoded data removed]",
      "text/plain": [
       "<Figure size 432x288 with 1 Axes>"
      ]
     },
     "metadata": {},
     "output_type": "display_data"
    }
   ],
   "source": [
    "# plot imputed daily ride counts for a specific station\n",
    "plt.plot(citibike_df[citibike_df.station_id == 128].ride_counts_clean)\n",
    "plt.title('Daily volume of Citibike rides (with rolling 90-day median imputation)')\n",
    "plt.xlabel('Date')\n",
    "plt.ylabel('# of Citibike rides');"
   ]
  },
  {
   "cell_type": "code",
   "execution_count": 180,
   "metadata": {
    "ExecuteTime": {
     "end_time": "2020-06-30T21:30:28.439247Z",
     "start_time": "2020-06-30T21:30:28.397971Z"
    }
   },
   "outputs": [
    {
     "data": {
      "text/plain": [
       "DatetimeIndex([], dtype='datetime64[ns]', freq=None)"
      ]
     },
     "execution_count": 180,
     "metadata": {},
     "output_type": "execute_result"
    }
   ],
   "source": [
    "# confirm that there are no missing dates after imputation\n",
    "pd.date_range(start = '2015-01-01', end = '2019-12-31').difference(citibike_df.date)"
   ]
  },
  {
   "cell_type": "markdown",
   "metadata": {},
   "source": [
    "## Additional columns and cleanup"
   ]
  },
  {
   "cell_type": "code",
   "execution_count": 181,
   "metadata": {
    "ExecuteTime": {
     "end_time": "2020-06-30T21:31:54.747042Z",
     "start_time": "2020-06-30T21:31:54.717510Z"
    },
    "run_control": {
     "marked": false
    }
   },
   "outputs": [],
   "source": [
    "# add day of week in dataframe\n",
    "citibike_df['day_of_week'] = citibike_df.date.dt.weekday"
   ]
  },
  {
   "cell_type": "code",
   "execution_count": 183,
   "metadata": {
    "ExecuteTime": {
     "end_time": "2020-06-30T21:32:22.446231Z",
     "start_time": "2020-06-30T21:32:22.264179Z"
    },
    "run_control": {
     "marked": false
    }
   },
   "outputs": [
    {
     "data": {
      "text/html": [
       "<div>\n",
       "<style scoped>\n",
       "    .dataframe tbody tr th:only-of-type {\n",
       "        vertical-align: middle;\n",
       "    }\n",
       "\n",
       "    .dataframe tbody tr th {\n",
       "        vertical-align: top;\n",
       "    }\n",
       "\n",
       "    .dataframe thead th {\n",
       "        text-align: right;\n",
       "    }\n",
       "</style>\n",
       "<table border=\"1\" class=\"dataframe\">\n",
       "  <thead>\n",
       "    <tr style=\"text-align: right;\">\n",
       "      <th></th>\n",
       "      <th>station_id</th>\n",
       "      <th>station_name</th>\n",
       "      <th>station_latitude</th>\n",
       "      <th>station_longitude</th>\n",
       "    </tr>\n",
       "  </thead>\n",
       "  <tbody>\n",
       "    <tr>\n",
       "      <th>0</th>\n",
       "      <td>79</td>\n",
       "      <td>Franklin St &amp; W Broadway</td>\n",
       "      <td>40.719116</td>\n",
       "      <td>-74.006667</td>\n",
       "    </tr>\n",
       "    <tr>\n",
       "      <th>57</th>\n",
       "      <td>119</td>\n",
       "      <td>Park Ave &amp; St Edwards St</td>\n",
       "      <td>40.696089</td>\n",
       "      <td>-73.978034</td>\n",
       "    </tr>\n",
       "    <tr>\n",
       "      <th>61</th>\n",
       "      <td>120</td>\n",
       "      <td>Lexington Ave &amp; Classon Ave</td>\n",
       "      <td>40.686768</td>\n",
       "      <td>-73.959282</td>\n",
       "    </tr>\n",
       "    <tr>\n",
       "      <th>80</th>\n",
       "      <td>127</td>\n",
       "      <td>Barrow St &amp; Hudson St</td>\n",
       "      <td>40.731724</td>\n",
       "      <td>-74.006744</td>\n",
       "    </tr>\n",
       "    <tr>\n",
       "      <th>133</th>\n",
       "      <td>128</td>\n",
       "      <td>MacDougal St &amp; Prince St</td>\n",
       "      <td>40.727103</td>\n",
       "      <td>-74.002971</td>\n",
       "    </tr>\n",
       "  </tbody>\n",
       "</table>\n",
       "</div>"
      ],
      "text/plain": [
       "     station_id                 station_name  station_latitude  \\\n",
       "0            79     Franklin St & W Broadway         40.719116   \n",
       "57          119     Park Ave & St Edwards St         40.696089   \n",
       "61          120  Lexington Ave & Classon Ave         40.686768   \n",
       "80          127        Barrow St & Hudson St         40.731724   \n",
       "133         128     MacDougal St & Prince St         40.727103   \n",
       "\n",
       "     station_longitude  \n",
       "0           -74.006667  \n",
       "57          -73.978034  \n",
       "61          -73.959282  \n",
       "80          -74.006744  \n",
       "133         -74.002971  "
      ]
     },
     "execution_count": 183,
     "metadata": {},
     "output_type": "execute_result"
    }
   ],
   "source": [
    "# add station info\n",
    "station_info = citibike_df[(citibike_df.station_name != 0) & \n",
    "                           (citibike_df.station_latitude != 0) &\n",
    "                           (citibike_df.station_longitude != 0)].groupby(['station_id', 'station_name', 'station_latitude', 'station_longitude']).size().reset_index().rename(columns={0:'count'}).drop('count', axis=1)\n",
    "\n",
    "# drop duplicates\n",
    "station_info.drop_duplicates(subset=['station_id'], inplace=True)\n",
    "station_info.head()"
   ]
  },
  {
   "cell_type": "code",
   "execution_count": 89,
   "metadata": {
    "ExecuteTime": {
     "end_time": "2020-06-10T23:39:11.159838Z",
     "start_time": "2020-06-10T23:39:10.993374Z"
    },
    "run_control": {
     "marked": false
    }
   },
   "outputs": [],
   "source": [
    "# merge with citibike df\n",
    "citibike_df = citibike_df.merge(station_info, how='left', left_on='station_id', right_on='station_id')\n",
    "\n",
    "# drop columns\n",
    "citibike_df = citibike_df.drop(['station_name_x', 'station_latitude_x', 'station_longitude_x'], axis=1)\n",
    "\n",
    "# rename columns\n",
    "citibike_df.columns = ['date', 'station_id', 'mean_duration', 'year', 'month', 'ride_counts',\n",
    "                         'replace_zeroes', 'ride_counts_clean', 'day_of_week', \n",
    "                         'station_name', 'station_latitude', 'station_longitude']\n",
    "# reorder columns\n",
    "citibike_df = citibike_df[['date', 'station_id', 'station_name', 'station_latitude', 'station_longitude',\n",
    "                           'mean_duration', 'year', 'month', 'day_of_week',\n",
    "                           'ride_counts','replace_zeroes', 'ride_counts_clean']]\n",
    "\n",
    "# drop some columns and reset index\n",
    "citibike_df = citibike_df.reset_index(drop=True)"
   ]
  },
  {
   "cell_type": "code",
   "execution_count": 90,
   "metadata": {
    "ExecuteTime": {
     "end_time": "2020-06-10T23:39:14.997193Z",
     "start_time": "2020-06-10T23:39:14.993145Z"
    },
    "scrolled": true
   },
   "outputs": [
    {
     "data": {
      "text/plain": [
       "(332332, 12)"
      ]
     },
     "execution_count": 90,
     "metadata": {},
     "output_type": "execute_result"
    }
   ],
   "source": [
    "citibike_df.shape"
   ]
  },
  {
   "cell_type": "code",
   "execution_count": 91,
   "metadata": {
    "ExecuteTime": {
     "end_time": "2020-06-10T23:39:21.791330Z",
     "start_time": "2020-06-10T23:39:21.777867Z"
    }
   },
   "outputs": [
    {
     "data": {
      "text/html": [
       "<div>\n",
       "<style scoped>\n",
       "    .dataframe tbody tr th:only-of-type {\n",
       "        vertical-align: middle;\n",
       "    }\n",
       "\n",
       "    .dataframe tbody tr th {\n",
       "        vertical-align: top;\n",
       "    }\n",
       "\n",
       "    .dataframe thead th {\n",
       "        text-align: right;\n",
       "    }\n",
       "</style>\n",
       "<table border=\"1\" class=\"dataframe\">\n",
       "  <thead>\n",
       "    <tr style=\"text-align: right;\">\n",
       "      <th></th>\n",
       "      <th>date</th>\n",
       "      <th>station_id</th>\n",
       "      <th>station_name</th>\n",
       "      <th>station_latitude</th>\n",
       "      <th>station_longitude</th>\n",
       "      <th>mean_duration</th>\n",
       "      <th>year</th>\n",
       "      <th>month</th>\n",
       "      <th>day_of_week</th>\n",
       "      <th>ride_counts</th>\n",
       "      <th>replace_zeroes</th>\n",
       "      <th>ride_counts_clean</th>\n",
       "    </tr>\n",
       "  </thead>\n",
       "  <tbody>\n",
       "    <tr>\n",
       "      <th>0</th>\n",
       "      <td>2015-01-01</td>\n",
       "      <td>79</td>\n",
       "      <td>Franklin St &amp; W Broadway</td>\n",
       "      <td>40.719116</td>\n",
       "      <td>-74.006667</td>\n",
       "      <td>880.133333</td>\n",
       "      <td>2015</td>\n",
       "      <td>1</td>\n",
       "      <td>3</td>\n",
       "      <td>15</td>\n",
       "      <td>NaN</td>\n",
       "      <td>15</td>\n",
       "    </tr>\n",
       "    <tr>\n",
       "      <th>1</th>\n",
       "      <td>2015-01-02</td>\n",
       "      <td>79</td>\n",
       "      <td>Franklin St &amp; W Broadway</td>\n",
       "      <td>40.719116</td>\n",
       "      <td>-74.006667</td>\n",
       "      <td>1499.818182</td>\n",
       "      <td>2015</td>\n",
       "      <td>1</td>\n",
       "      <td>4</td>\n",
       "      <td>22</td>\n",
       "      <td>NaN</td>\n",
       "      <td>22</td>\n",
       "    </tr>\n",
       "    <tr>\n",
       "      <th>2</th>\n",
       "      <td>2015-01-03</td>\n",
       "      <td>79</td>\n",
       "      <td>Franklin St &amp; W Broadway</td>\n",
       "      <td>40.719116</td>\n",
       "      <td>-74.006667</td>\n",
       "      <td>432.266667</td>\n",
       "      <td>2015</td>\n",
       "      <td>1</td>\n",
       "      <td>5</td>\n",
       "      <td>15</td>\n",
       "      <td>NaN</td>\n",
       "      <td>15</td>\n",
       "    </tr>\n",
       "    <tr>\n",
       "      <th>3</th>\n",
       "      <td>2015-01-04</td>\n",
       "      <td>79</td>\n",
       "      <td>Franklin St &amp; W Broadway</td>\n",
       "      <td>40.719116</td>\n",
       "      <td>-74.006667</td>\n",
       "      <td>693.666667</td>\n",
       "      <td>2015</td>\n",
       "      <td>1</td>\n",
       "      <td>6</td>\n",
       "      <td>27</td>\n",
       "      <td>NaN</td>\n",
       "      <td>27</td>\n",
       "    </tr>\n",
       "    <tr>\n",
       "      <th>4</th>\n",
       "      <td>2015-01-05</td>\n",
       "      <td>79</td>\n",
       "      <td>Franklin St &amp; W Broadway</td>\n",
       "      <td>40.719116</td>\n",
       "      <td>-74.006667</td>\n",
       "      <td>669.000000</td>\n",
       "      <td>2015</td>\n",
       "      <td>1</td>\n",
       "      <td>0</td>\n",
       "      <td>27</td>\n",
       "      <td>NaN</td>\n",
       "      <td>27</td>\n",
       "    </tr>\n",
       "  </tbody>\n",
       "</table>\n",
       "</div>"
      ],
      "text/plain": [
       "        date  station_id              station_name  station_latitude  \\\n",
       "0 2015-01-01          79  Franklin St & W Broadway         40.719116   \n",
       "1 2015-01-02          79  Franklin St & W Broadway         40.719116   \n",
       "2 2015-01-03          79  Franklin St & W Broadway         40.719116   \n",
       "3 2015-01-04          79  Franklin St & W Broadway         40.719116   \n",
       "4 2015-01-05          79  Franklin St & W Broadway         40.719116   \n",
       "\n",
       "   station_longitude  mean_duration  year  month  day_of_week  ride_counts  \\\n",
       "0         -74.006667     880.133333  2015      1            3           15   \n",
       "1         -74.006667    1499.818182  2015      1            4           22   \n",
       "2         -74.006667     432.266667  2015      1            5           15   \n",
       "3         -74.006667     693.666667  2015      1            6           27   \n",
       "4         -74.006667     669.000000  2015      1            0           27   \n",
       "\n",
       "   replace_zeroes  ride_counts_clean  \n",
       "0             NaN                 15  \n",
       "1             NaN                 22  \n",
       "2             NaN                 15  \n",
       "3             NaN                 27  \n",
       "4             NaN                 27  "
      ]
     },
     "execution_count": 91,
     "metadata": {},
     "output_type": "execute_result"
    }
   ],
   "source": [
    "citibike_df.head()"
   ]
  },
  {
   "cell_type": "code",
   "execution_count": 93,
   "metadata": {
    "ExecuteTime": {
     "end_time": "2020-06-10T23:40:20.188368Z",
     "start_time": "2020-06-10T23:40:20.123516Z"
    }
   },
   "outputs": [],
   "source": [
    "# pickle dataframe\n",
    "#citibike_df.to_pickle('data/citibike_df_preprocessed.pkl')\n",
    "citibike_df = pd.read_pickle('data/citibike_df_preprocessed.pkl')"
   ]
  }
 ],
 "metadata": {
  "kernelspec": {
   "display_name": "Python 3",
   "language": "python",
   "name": "python3"
  },
  "language_info": {
   "codemirror_mode": {
    "name": "ipython",
    "version": 3
   },
   "file_extension": ".py",
   "mimetype": "text/x-python",
   "name": "python",
   "nbconvert_exporter": "python",
   "pygments_lexer": "ipython3",
   "version": "3.7.4"
  },
  "toc": {
   "base_numbering": 1,
   "nav_menu": {},
   "number_sections": false,
   "sideBar": true,
   "skip_h1_title": false,
   "title_cell": "Table of Contents",
   "title_sidebar": "Contents",
   "toc_cell": false,
   "toc_position": {},
   "toc_section_display": true,
   "toc_window_display": false
  },
  "varInspector": {
   "cols": {
    "lenName": 16,
    "lenType": 16,
    "lenVar": 40
   },
   "kernels_config": {
    "python": {
     "delete_cmd_postfix": "",
     "delete_cmd_prefix": "del ",
     "library": "var_list.py",
     "varRefreshCmd": "print(var_dic_list())"
    },
    "r": {
     "delete_cmd_postfix": ") ",
     "delete_cmd_prefix": "rm(",
     "library": "var_list.r",
     "varRefreshCmd": "cat(var_dic_list()) "
    }
   },
   "types_to_exclude": [
    "module",
    "function",
    "builtin_function_or_method",
    "instance",
    "_Feature"
   ],
   "window_display": false
  }
 },
 "nbformat": 4,
 "nbformat_minor": 4
}
